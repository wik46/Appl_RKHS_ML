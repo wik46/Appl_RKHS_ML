{
 "cells": [
  {
   "cell_type": "markdown",
   "id": "8441ae42-fb1b-4539-b4ec-e04fd1251747",
   "metadata": {},
   "source": [
    "### Hyperplanes over real and complex vector spaces\n",
    "Example 1: Affine Hyperplanes in $\\mathbb{R}^2$. If we have a vector w and scalar c we can create a hyper plane in $\\mathbb{R}^2$."
   ]
  },
  {
   "cell_type": "code",
   "execution_count": null,
   "id": "cbaf0755-afcf-4dca-a9c1-fbea4c5da30a",
   "metadata": {},
   "outputs": [],
   "source": []
  }
 ],
 "metadata": {
  "kernelspec": {
   "display_name": "Python 3 (ipykernel)",
   "language": "python",
   "name": "python3"
  },
  "language_info": {
   "codemirror_mode": {
    "name": "ipython",
    "version": 3
   },
   "file_extension": ".py",
   "mimetype": "text/x-python",
   "name": "python",
   "nbconvert_exporter": "python",
   "pygments_lexer": "ipython3",
   "version": "3.10.12"
  }
 },
 "nbformat": 4,
 "nbformat_minor": 5
}
